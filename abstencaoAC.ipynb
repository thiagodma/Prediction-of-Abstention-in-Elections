{
 "cells": [
  {
   "cell_type": "code",
   "execution_count": 45,
   "metadata": {},
   "outputs": [],
   "source": [
    "import pandas as pd\n",
    "import numpy as np\n",
    "import re\n",
    "import os\n",
    "import glob\n",
    "from sklearn.svm import SVR\n",
    "from sklearn.ensemble import RandomForestRegressor\n",
    "from sklearn.neural_network import MLPRegressor\n",
    "from sklearn.model_selection import train_test_split\n",
    "from sklearn.preprocessing import StandardScaler\n",
    "from sklearn.model_selection import cross_val_score\n",
    "from sklearn.neighbors import KNeighborsRegressor\n",
    "from sklearn import linear_model"
   ]
  },
  {
   "cell_type": "code",
   "execution_count": 41,
   "metadata": {},
   "outputs": [],
   "source": [
    "#os dados de cada Eleição (separados por turno) estão no df dataElecs\n",
    "pathElec2012_1t = 'C:\\\\Users\\\\thiag\\\\Desktop\\\\Thiago\\\\UnB\\\\Fundamentos de Sistemas Inteligentes\\\\ProjetoFinal\\\\1Turno2012'\n",
    "pathElec2012_2t = 'C:\\\\Users\\\\thiag\\\\Desktop\\\\Thiago\\\\UnB\\\\Fundamentos de Sistemas Inteligentes\\\\ProjetoFinal\\\\2Turno2012'\n",
    "pathElec2014_1t_gov = 'C:\\\\Users\\\\thiag\\\\Desktop\\\\Thiago\\\\UnB\\\\Fundamentos de Sistemas Inteligentes\\\\ProjetoFinal\\\\1Turno14-Proc\\\\Governador'\n",
    "pathElec2014_1t_pres = 'C:\\\\Users\\\\thiag\\\\Desktop\\\\Thiago\\\\UnB\\\\Fundamentos de Sistemas Inteligentes\\\\ProjetoFinal\\\\1Turno14-Proc\\\\Presidente'\n",
    "pathElec2014_2t_gov = 'C:\\\\Users\\\\thiag\\\\Desktop\\\\Thiago\\\\UnB\\\\Fundamentos de Sistemas Inteligentes\\\\ProjetoFinal\\\\2Turno14-Proc\\\\Governador'\n",
    "pathElec2014_2t_pres = 'C:\\\\Users\\\\thiag\\\\Desktop\\\\Thiago\\\\UnB\\\\Fundamentos de Sistemas Inteligentes\\\\ProjetoFinal\\\\2Turno14-Proc\\\\Presidente'\n",
    "pathElec2016_1t = 'C:\\\\Users\\\\thiag\\\\Desktop\\\\Thiago\\\\UnB\\\\Fundamentos de Sistemas Inteligentes\\\\ProjetoFinal\\\\1Turno2016'\n",
    "pathElec2016_2t = 'C:\\\\Users\\\\thiag\\\\Desktop\\\\Thiago\\\\UnB\\\\Fundamentos de Sistemas Inteligentes\\\\ProjetoFinal\\\\2Turno2016'\n",
    "pathElec2018_1t_gov = 'C:\\\\Users\\\\thiag\\\\Desktop\\\\Thiago\\\\UnB\\\\Fundamentos de Sistemas Inteligentes\\\\ProjetoFinal\\\\1Turno2018\\\\Governador'\n",
    "pathElec2018_1t_pres = 'C:\\\\Users\\\\thiag\\\\Desktop\\\\Thiago\\\\UnB\\\\Fundamentos de Sistemas Inteligentes\\\\ProjetoFinal\\\\1Turno2018\\\\Presidente'\n",
    "pathElec2018_2t_gov = 'C:\\\\Users\\\\thiag\\\\Desktop\\\\Thiago\\\\UnB\\\\Fundamentos de Sistemas Inteligentes\\\\ProjetoFinal\\\\2Turno2018\\\\Governador'\n",
    "pathElec2018_2t_pres = 'C:\\\\Users\\\\thiag\\\\Desktop\\\\Thiago\\\\UnB\\\\Fundamentos de Sistemas Inteligentes\\\\ProjetoFinal\\\\2Turno2018\\\\Presidente'\n",
    "\n",
    "paths = [pathElec2012_1t, pathElec2012_2t, pathElec2014_1t_gov, pathElec2014_1t_pres,\n",
    "         pathElec2014_2t_gov, pathElec2014_2t_pres, pathElec2016_1t,pathElec2016_2t, pathElec2018_1t_gov, pathElec2018_1t_pres,\n",
    "         pathElec2018_2t_gov, pathElec2018_2t_pres]\n",
    "\n",
    "dataElecs_AC = []\n",
    "dataElecs_DC = []\n",
    "j=0\n",
    "for path in paths:\n",
    "    os.chdir(path)\n",
    "    if (j<8):\n",
    "        filenames = glob.glob(\"bweb_*.txt\")\n",
    "        dfs = [pd.read_table(filename,encoding = 'ISO-8859-1', delimiter = ',') for filename in filenames]\n",
    "    else:\n",
    "        filenames = glob.glob(\"bweb_*.csv\")\n",
    "        dfs = [pd.read_csv(filename,encoding = 'ISO-8859-1', delimiter = ',') for filename in filenames]\n",
    "    i=0\n",
    "    df_certo = []\n",
    "    for df in dfs:\n",
    "        UF_name = filenames[i]\n",
    "        UF_name = UF_name[8:10]\n",
    "        d = {'Sigla da Unidade da Federação':[UF_name]*(df.shape[0])}\n",
    "        UF = pd.DataFrame(data = d)\n",
    "        df_certo.append(pd.concat([df,UF], ignore_index=False, sort= False,axis=1))\n",
    "        i = i+1\n",
    "    data = pd.concat(df_certo, ignore_index=True,sort= False)\n",
    "    #import pdb; pdb.set_trace()\n",
    "    data.columns.values[0] = 'Nome_Munic'\n",
    "    data['Nome_Munic'] = data['Nome_Munic'].astype('str')\n",
    "    data['Nome_Munic'] = data['Nome_Munic'].str.upper()\n",
    "   # import pdb; pdb.set_trace()\n",
    "    data['Nome_Munic'] = data['Nome_Munic'].map(lambda x: re.sub(r'[^\\w\\s]', '', x))\n",
    "    data['Nome_Munic'] = data['Nome_Munic'].str.replace(' ', '')\n",
    "    nomeMunicEAbstencoes = pd.concat([data['Nome_Munic'],data['Sigla da Unidade da Federação'],data['Resultados_5']], ignore_index = True, axis = 1)\n",
    "    nomeMunicEAbstencoes.columns = ['Nome_Munic','Sigla da Unidade da Federação', 'Abstencoes']\n",
    "    dataElecs_AC.append(data)\n",
    "    dataElecs_DC.append(nomeMunicEAbstencoes)\n",
    "    j = j+1\n",
    "    \n",
    "a = dataElecs_DC[0]\n",
    "for i in range(0,len(dataElecs_DC)-1):    \n",
    "    a = pd.merge(a,dataElecs_DC[i+1], on = ['Nome_Munic', 'Sigla da Unidade da Federação'],how='left')\n",
    "    i = i+1\n",
    "    \n",
    "a.mean(axis = 1)\n",
    "\n",
    "absMediaPorMunic = pd.concat([a['Nome_Munic'], a['Sigla da Unidade da Federação'] , a.mean(axis=1)],axis=1)\n",
    "absMediaPorMunic.columns.values[2] = 'AbsMedia'"
   ]
  },
  {
   "cell_type": "code",
   "execution_count": 42,
   "metadata": {},
   "outputs": [],
   "source": [
    "#1° turno 2016\n",
    "dataElec2016_1t = pd.concat([dataElecs_AC[6]['Nome_Munic'],dataElecs_AC[6]['Sigla da Unidade da Federação'],dataElecs_AC[6]['Resultados_5'] ,dataElecs_AC[6]['Resultados_2'], dataElecs_AC[6]['Resultados_4'], dataElecs_AC[6]['Resultados_8'], dataElecs_AC[6]['Resultados_9']],axis=1)\n",
    "y_aux = pd.merge(dataElec2016_1t, absMediaPorMunic, on= ['Nome_Munic' , 'Sigla da Unidade da Federação'])\n",
    "y = y_aux['Resultados_5'].sub(y_aux['AbsMedia'], fill_value = 0)\n",
    "X = y_aux.iloc[:,3:7]\n",
    "for i in range(0,X.shape[1]):\n",
    "    if (X.iloc[:,i].dtype == 'O'):\n",
    "        X.iloc[:,i] = pd.to_numeric(X.iloc[:,i], errors = 'coerce')\n",
    "\n",
    "X = X.replace('\\.+', np.nan, regex=True)\n",
    "X = X.replace(',','.',regex = True)\n",
    "X.fillna(0,inplace = True)        \n",
    "X = StandardScaler().fit_transform(X)"
   ]
  },
  {
   "cell_type": "code",
   "execution_count": 46,
   "metadata": {},
   "outputs": [
    {
     "data": {
      "text/plain": [
       "[-0.04132904664389092,\n",
       " 0.025074038763352346,\n",
       " 0.03904885274152492,\n",
       " 0.003730328196893895,\n",
       " -0.00015091910453768342,\n",
       " -0.00015091910453768342]"
      ]
     },
     "execution_count": 46,
     "metadata": {},
     "output_type": "execute_result"
    }
   ],
   "source": [
    "regressors = [\n",
    "    RandomForestRegressor(n_estimators = 500, max_depth = 100),\n",
    "    KNeighborsRegressor(n_neighbors=15),\n",
    "    linear_model.Lars(),\n",
    "    MLPRegressor(hidden_layer_sizes = (50,), activation = 'logistic', alpha = 0.01),\n",
    "    SVR(kernel = 'linear', C=1),\n",
    "    SVR(kernel = 'rbf', C=1), \n",
    "]\n",
    "\n",
    "X_train, X_test, y_train, y_test = train_test_split(X, y, test_size=0.3, random_state = 42)\n",
    "\n",
    "scores = []\n",
    "\n",
    "\n",
    "for reg in regressors:\n",
    "    reg.fit(X_train,y_train)\n",
    "    scores.append(reg.score(X_test,y_test))\n",
    "scores"
   ]
  },
  {
   "cell_type": "code",
   "execution_count": 39,
   "metadata": {},
   "outputs": [],
   "source": [
    "#1° turno 2014\n",
    "dataElec2014_1t = pd.concat([dataElecs_AC[0]['Nome_Munic'],dataElecs_AC[0]['Sigla da Unidade da Federação'],dataElecs_AC[0]['Resultados_5'] ,dataElecs_AC[0]['Resultados_2'], dataElecs_AC[0]['Resultados_4'], dataElecs_AC[0]['Resultados_8'], dataElecs_AC[0]['Resultados_9']],axis=1)\n",
    "y_aux = pd.merge(dataElec2012_1t, absMediaPorMunic, on= ['Nome_Munic' , 'Sigla da Unidade da Federação'])\n",
    "y = y_aux['Resultados_5'].sub(y_aux['AbsMedia'], fill_value = 0)\n",
    "X = y_aux.iloc[:,3:7]\n",
    "for i in range(0,X.shape[1]):\n",
    "    if (X.iloc[:,i].dtype == 'O'):\n",
    "        X.iloc[:,i] = pd.to_numeric(X.iloc[:,i], errors = 'coerce')\n",
    "\n",
    "X = X.replace('\\.+', np.nan, regex=True)\n",
    "X = X.replace(',','.',regex = True)\n",
    "X.fillna(0,inplace = True)        \n",
    "X = StandardScaler().fit_transform(X)"
   ]
  },
  {
   "cell_type": "code",
   "execution_count": null,
   "metadata": {},
   "outputs": [],
   "source": [
    "regressors = [\n",
    "    #RandomForestRegressor(n_estimators = 100, max_depth = 100),\n",
    "    RandomForestRegressor(n_estimators = 50, max_depth = 10),\n",
    "    KNeighborsRegressor(n_neighbors=15)\n",
    "    \n",
    "]\n",
    "\n",
    "X_train, X_test, y_train, y_test = train_test_split(X, y, test_size=0.3, random_state = 42)\n",
    "\n",
    "scores = []\n",
    "\n",
    "\n",
    "for reg in regressors:\n",
    "    reg.fit(X_train,y_train)\n",
    "    scores.append(reg.score(X_test,y_test))\n",
    "scores"
   ]
  }
 ],
 "metadata": {
  "kernelspec": {
   "display_name": "Python 3",
   "language": "python",
   "name": "python3"
  },
  "language_info": {
   "codemirror_mode": {
    "name": "ipython",
    "version": 3
   },
   "file_extension": ".py",
   "mimetype": "text/x-python",
   "name": "python",
   "nbconvert_exporter": "python",
   "pygments_lexer": "ipython3",
   "version": "3.6.5"
  }
 },
 "nbformat": 4,
 "nbformat_minor": 2
}
